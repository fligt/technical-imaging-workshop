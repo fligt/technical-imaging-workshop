{
 "cells": [
  {
   "cell_type": "markdown",
   "id": "5b1cfabc-e5c4-4cf0-8e11-e8663c39ddb3",
   "metadata": {},
   "source": [
    "# Here come slides..."
   ]
  },
  {
   "cell_type": "code",
   "execution_count": null,
   "id": "4c42c358-0162-4951-831f-364f10d510fb",
   "metadata": {},
   "outputs": [],
   "source": []
  }
 ],
 "metadata": {
  "kernelspec": {
   "display_name": "python3",
   "language": "python",
   "name": "python3"
  }
 },
 "nbformat": 4,
 "nbformat_minor": 5
}
